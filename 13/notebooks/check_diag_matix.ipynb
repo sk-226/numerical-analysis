{
 "cells": [
  {
   "cell_type": "code",
   "execution_count": 14,
   "id": "1dce7f1b",
   "metadata": {},
   "outputs": [],
   "source": [
    "import pandas as pd\n",
    "df = pd.read_csv(\"../inputs/runs.csv\")\n"
   ]
  },
  {
   "cell_type": "code",
   "execution_count": 15,
   "id": "3410acc1",
   "metadata": {},
   "outputs": [
    {
     "name": "stdout",
     "output_type": "stream",
     "text": [
      "['HB/bcsstm02' 'HB/bcsstm05' 'HB/bcsstm06' 'HB/bcsstm08' 'HB/bcsstm09'\n",
      " 'HB/bcsstm11' 'HB/bcsstm19' 'HB/bcsstm20' 'HB/bcsstm21' 'HB/bcsstm22'\n",
      " 'HB/bcsstm23' 'HB/bcsstm24' 'HB/bcsstm25' 'HB/bcsstm26' 'Boeing/bcsstm39'\n",
      " 'JGD_BIBD/bibd_81_2' 'Oberwolfach/t2dal_e' 'Oberwolfach/t3dl_e']\n",
      "COUNT:  18\n"
     ]
    }
   ],
   "source": [
    "# nnz と size が一致しているか確認 (対象: spd 行列)\n",
    "diag_matrix_names = df.query(\"nnz == matrix_size\")[\"matrix_name\"].unique()\n",
    "print(diag_matrix_names)\n",
    "print(\"COUNT: \", len(diag_matrix_names))\n"
   ]
  },
  {
   "cell_type": "markdown",
   "id": "6da7f1ba",
   "metadata": {},
   "source": [
    "対角行列と対角補正 $\\alpha$ の関係"
   ]
  },
  {
   "cell_type": "code",
   "execution_count": 16,
   "id": "11abf7ec",
   "metadata": {},
   "outputs": [
    {
     "name": "stdout",
     "output_type": "stream",
     "text": [
      "['Bates/Chem97ZtZ' 'HB/bcsstm02' 'HB/bcsstm05' 'HB/bcsstm06' 'HB/bcsstm08'\n",
      " 'HB/bcsstm09' 'HB/bcsstm11' 'HB/bcsstm19' 'HB/bcsstm20' 'HB/bcsstm21'\n",
      " 'HB/bcsstm22' 'HB/bcsstm23' 'HB/bcsstm24' 'HB/bcsstm25' 'HB/bcsstm26'\n",
      " 'Boeing/bcsstm39' 'JGD_BIBD/bibd_81_2' 'Pothen/bodyy4' 'Pothen/bodyy5'\n",
      " 'Pothen/bodyy6' 'Norris/fv1' 'Norris/fv2' 'GHS_psdef/jnlbrng1'\n",
      " 'Pothen/mesh1e1' 'Pothen/mesh1em1' 'Pothen/mesh1em6' 'Pothen/mesh2e1'\n",
      " 'Pothen/mesh2em5' 'Pothen/mesh3e1' 'Pothen/mesh3em5' 'GHS_psdef/minsurfo'\n",
      " 'HB/nos6' 'GHS_psdef/obstclae' 'Oberwolfach/t2dal_e' 'Oberwolfach/t3dl_e'\n",
      " 'GHS_psdef/torsion1']\n",
      "COUNT:  36\n"
     ]
    }
   ],
   "source": [
    "# alpha が負になる行列\n",
    "prec_unknown_matix_names = df.query(\"solve_status == 'prec_unknown'\")[\"matrix_name\"].unique()\n",
    "print(prec_unknown_matix_names)\n",
    "print(\"COUNT: \", len(prec_unknown_matix_names))"
   ]
  },
  {
   "cell_type": "code",
   "execution_count": null,
   "id": "f8e74ba6",
   "metadata": {},
   "outputs": [
    {
     "name": "stdout",
     "output_type": "stream",
     "text": [
      "{'HB/bcsstm05', 'HB/bcsstm24', 'HB/bcsstm22', 'Oberwolfach/t2dal_e', 'HB/bcsstm11', 'HB/bcsstm25', 'Boeing/bcsstm39', 'HB/bcsstm09', 'JGD_BIBD/bibd_81_2', 'HB/bcsstm06', 'HB/bcsstm20', 'Oberwolfach/t3dl_e', 'HB/bcsstm02', 'HB/bcsstm21', 'HB/bcsstm26', 'HB/bcsstm19', 'HB/bcsstm08', 'HB/bcsstm23'}\n",
      "COUNT:  18\n"
     ]
    }
   ],
   "source": [
    "# 対角 かつ prec_unknown である行列\n",
    "common = set(diag_matrix_names) & set(prec_unknown_matix_names)\n",
    "print(common)\n",
    "print(\"COUNT: \", len(common))"
   ]
  },
  {
   "cell_type": "code",
   "execution_count": null,
   "id": "ea914554",
   "metadata": {},
   "outputs": [],
   "source": []
  }
 ],
 "metadata": {
  "kernelspec": {
   "display_name": ".venv",
   "language": "python",
   "name": "python3"
  },
  "language_info": {
   "codemirror_mode": {
    "name": "ipython",
    "version": 3
   },
   "file_extension": ".py",
   "mimetype": "text/x-python",
   "name": "python",
   "nbconvert_exporter": "python",
   "pygments_lexer": "ipython3",
   "version": "3.12.7"
  }
 },
 "nbformat": 4,
 "nbformat_minor": 5
}
