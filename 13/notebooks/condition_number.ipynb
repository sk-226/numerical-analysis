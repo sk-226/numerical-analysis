{
 "cells": [
  {
   "cell_type": "code",
   "execution_count": 10,
   "id": "abb2e47d",
   "metadata": {},
   "outputs": [],
   "source": [
    "import pandas as pd\n",
    "df = pd.read_csv(\"../inputs/cond_spd_0-50000.csv\")"
   ]
  },
  {
   "cell_type": "code",
   "execution_count": 11,
   "id": "60374402",
   "metadata": {},
   "outputs": [],
   "source": [
    "matrix_names = df[\"matrix_name\"].unique()\n"
   ]
  },
  {
   "cell_type": "code",
   "execution_count": 14,
   "id": "ccc5ade7",
   "metadata": {},
   "outputs": [
    {
     "name": "stdout",
     "output_type": "stream",
     "text": [
      "['Oberwolfach/LF10000' 'Oberwolfach/LFAT5000' 'Okunbor/aft01'\n",
      " 'Boeing/bcsstk38' 'GHS_indef/bloweybq' 'FIDAP/ex13' 'Boeing/msc01050'\n",
      " 'HB/plat1919' 'GHS_psdef/vanbody']\n",
      "COUNT:  9\n"
     ]
    }
   ],
   "source": [
    "high_cond_df = df.query(\"condition_number > 1e15\")\n",
    "high_cond_matrix_names = high_cond_df[\"matrix_name\"].unique()\n",
    "print(high_cond_matrix_names)\n",
    "print(\"COUNT: \", len(high_cond_matrix_names))"
   ]
  },
  {
   "cell_type": "code",
   "execution_count": 13,
   "id": "a1a5468a",
   "metadata": {},
   "outputs": [
    {
     "data": {
      "text/html": [
       "<div>\n",
       "<style scoped>\n",
       "    .dataframe tbody tr th:only-of-type {\n",
       "        vertical-align: middle;\n",
       "    }\n",
       "\n",
       "    .dataframe tbody tr th {\n",
       "        vertical-align: top;\n",
       "    }\n",
       "\n",
       "    .dataframe thead th {\n",
       "        text-align: right;\n",
       "    }\n",
       "</style>\n",
       "<table border=\"1\" class=\"dataframe\">\n",
       "  <thead>\n",
       "    <tr style=\"text-align: right;\">\n",
       "      <th></th>\n",
       "      <th>matrix_name</th>\n",
       "      <th>matrix_size</th>\n",
       "      <th>condition_number</th>\n",
       "      <th>computation_time</th>\n",
       "    </tr>\n",
       "  </thead>\n",
       "  <tbody>\n",
       "    <tr>\n",
       "      <th>9</th>\n",
       "      <td>Oberwolfach/LF10000</td>\n",
       "      <td>19998</td>\n",
       "      <td>6.495687e+18</td>\n",
       "      <td>0.030471</td>\n",
       "    </tr>\n",
       "    <tr>\n",
       "      <th>11</th>\n",
       "      <td>Oberwolfach/LFAT5000</td>\n",
       "      <td>19994</td>\n",
       "      <td>4.834148e+17</td>\n",
       "      <td>0.028425</td>\n",
       "    </tr>\n",
       "    <tr>\n",
       "      <th>25</th>\n",
       "      <td>Okunbor/aft01</td>\n",
       "      <td>8205</td>\n",
       "      <td>9.355608e+18</td>\n",
       "      <td>0.053851</td>\n",
       "    </tr>\n",
       "    <tr>\n",
       "      <th>56</th>\n",
       "      <td>Boeing/bcsstk38</td>\n",
       "      <td>8032</td>\n",
       "      <td>6.343103e+16</td>\n",
       "      <td>0.176394</td>\n",
       "    </tr>\n",
       "    <tr>\n",
       "      <th>75</th>\n",
       "      <td>GHS_indef/bloweybq</td>\n",
       "      <td>10001</td>\n",
       "      <td>4.173416e+18</td>\n",
       "      <td>0.020695</td>\n",
       "    </tr>\n",
       "    <tr>\n",
       "      <th>87</th>\n",
       "      <td>FIDAP/ex13</td>\n",
       "      <td>2568</td>\n",
       "      <td>4.009584e+15</td>\n",
       "      <td>0.026053</td>\n",
       "    </tr>\n",
       "    <tr>\n",
       "      <th>116</th>\n",
       "      <td>Boeing/msc01050</td>\n",
       "      <td>1050</td>\n",
       "      <td>8.999512e+15</td>\n",
       "      <td>0.011669</td>\n",
       "    </tr>\n",
       "    <tr>\n",
       "      <th>138</th>\n",
       "      <td>HB/plat1919</td>\n",
       "      <td>1919</td>\n",
       "      <td>1.371675e+18</td>\n",
       "      <td>0.035670</td>\n",
       "    </tr>\n",
       "    <tr>\n",
       "      <th>159</th>\n",
       "      <td>GHS_psdef/vanbody</td>\n",
       "      <td>47072</td>\n",
       "      <td>9.439332e+18</td>\n",
       "      <td>1.541742</td>\n",
       "    </tr>\n",
       "  </tbody>\n",
       "</table>\n",
       "</div>"
      ],
      "text/plain": [
       "              matrix_name  matrix_size  condition_number  computation_time\n",
       "9     Oberwolfach/LF10000        19998      6.495687e+18          0.030471\n",
       "11   Oberwolfach/LFAT5000        19994      4.834148e+17          0.028425\n",
       "25          Okunbor/aft01         8205      9.355608e+18          0.053851\n",
       "56        Boeing/bcsstk38         8032      6.343103e+16          0.176394\n",
       "75     GHS_indef/bloweybq        10001      4.173416e+18          0.020695\n",
       "87             FIDAP/ex13         2568      4.009584e+15          0.026053\n",
       "116       Boeing/msc01050         1050      8.999512e+15          0.011669\n",
       "138           HB/plat1919         1919      1.371675e+18          0.035670\n",
       "159     GHS_psdef/vanbody        47072      9.439332e+18          1.541742"
      ]
     },
     "execution_count": 13,
     "metadata": {},
     "output_type": "execute_result"
    }
   ],
   "source": [
    "high_cond_df"
   ]
  },
  {
   "cell_type": "code",
   "execution_count": null,
   "id": "e326ccff",
   "metadata": {},
   "outputs": [],
   "source": []
  }
 ],
 "metadata": {
  "kernelspec": {
   "display_name": ".venv",
   "language": "python",
   "name": "python3"
  },
  "language_info": {
   "codemirror_mode": {
    "name": "ipython",
    "version": 3
   },
   "file_extension": ".py",
   "mimetype": "text/x-python",
   "name": "python",
   "nbconvert_exporter": "python",
   "pygments_lexer": "ipython3",
   "version": "3.12.7"
  }
 },
 "nbformat": 4,
 "nbformat_minor": 5
}
